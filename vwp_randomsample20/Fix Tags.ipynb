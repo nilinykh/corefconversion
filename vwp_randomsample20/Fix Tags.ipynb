{
 "cells": [
  {
   "cell_type": "code",
   "execution_count": 1,
   "id": "0b0ae7b0-e12a-4889-8b6d-b78b90167561",
   "metadata": {},
   "outputs": [],
   "source": [
    "import pandas as pd\n",
    "import json\n",
    "\n",
    "df = pd.read_csv('./jsonlines2text_out.csv')\n",
    "grouped = df.groupby('doc_id')['sentence'].agg(list)\n",
    "grouped_dict = grouped.to_dict()\n",
    "\n",
    "#with open('./grouped_data.json', 'w') as json_file:\n",
    "#    json.dump(grouped_dict, json_file, indent=4)\n"
   ]
  },
  {
   "cell_type": "code",
   "execution_count": 2,
   "id": "df51059f-c5ee-4a6a-ba69-3ca40c43298e",
   "metadata": {},
   "outputs": [],
   "source": [
    "def fix_data(data):\n",
    "    # there was a case with doc_317 when the ending tag was misplaced, fix it here\n",
    "    # it was supposed to be in the previous element\n",
    "    dict_out = {}\n",
    "    for key, values in data.items():\n",
    "        fixed_data = []\n",
    "        for item in values:\n",
    "            if item.startswith('<span style=\"background-color: hsl(0, 100%, 80%);\">]</b>'):\n",
    "                fixed_data[-1] += '<span style=\"background-color: hsl(0, 100%, 80%);\">]</b>'\n",
    "                item = item.replace('<span style=\"background-color: hsl(0, 100%, 80%);\">]</b>', '', 1)\n",
    "            fixed_data.append(item)\n",
    "        dict_out[key] = fixed_data        \n",
    "    return dict_out\n"
   ]
  },
  {
   "cell_type": "code",
   "execution_count": 3,
   "id": "2c4c0bbd-e537-4fe7-bb06-3135d2fdd674",
   "metadata": {},
   "outputs": [],
   "source": [
    "fixed_data = fix_data(grouped_dict)\n",
    "\n",
    "with open('./grouped_data.json', 'w') as json_file:\n",
    "    json.dump(fixed_data, json_file, indent=4)"
   ]
  },
  {
   "cell_type": "code",
   "execution_count": null,
   "id": "a8458b0b-b624-4575-abbe-4b26e63c5915",
   "metadata": {},
   "outputs": [],
   "source": []
  }
 ],
 "metadata": {
  "kernelspec": {
   "display_name": "linkappend_env",
   "language": "python",
   "name": "linkappend_env"
  },
  "language_info": {
   "codemirror_mode": {
    "name": "ipython",
    "version": 3
   },
   "file_extension": ".py",
   "mimetype": "text/x-python",
   "name": "python",
   "nbconvert_exporter": "python",
   "pygments_lexer": "ipython3",
   "version": "3.11.9"
  }
 },
 "nbformat": 4,
 "nbformat_minor": 5
}
